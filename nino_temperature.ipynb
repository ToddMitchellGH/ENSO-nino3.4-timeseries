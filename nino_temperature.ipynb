{
 "cells": [
  {
   "cell_type": "code",
   "execution_count": 1,
   "metadata": {},
   "outputs": [],
   "source": [
    "# This program produces a plot of the \"nino3.4\" monthly sea surface temperature\n",
    "# deviations from climatology since 2010.  This index is an indicator\n",
    "# of the state and strength of the El Nino / Southern Oscillation (ENSO) phenomenon.\n",
    "#\n",
    "# Todd Mitchell, June 2019\n",
    "\n",
    "import numpy as np\n",
    "import matplotlib.pyplot as plt\n",
    "import sys\n",
    "from subprocess import call\n",
    "import pandas as pd"
   ]
  },
  {
   "cell_type": "code",
   "execution_count": 2,
   "metadata": {},
   "outputs": [
    {
     "data": {
      "text/plain": [
       "['__builtins__',\n",
       " '__cached__',\n",
       " '__doc__',\n",
       " '__file__',\n",
       " '__loader__',\n",
       " '__name__',\n",
       " '__package__',\n",
       " '__spec__',\n",
       " 'anomalies',\n",
       " 'arclength',\n",
       " 'fill_year',\n",
       " 'find_latlon',\n",
       " 'plot_vertical_lines',\n",
       " 'space_longitudes',\n",
       " 'threetotwo',\n",
       " 'time_shift',\n",
       " 'write_ts',\n",
       " 'yearsmonths',\n",
       " 'yearsmonthsdays']"
      ]
     },
     "execution_count": 2,
     "metadata": {},
     "output_type": "execute_result"
    }
   ],
   "source": [
    "# tpm.py, which is also on this repository, is a module of geophysical data analysis and plotting functions.\n",
    "# \"TPM\" are my initials.\n",
    "sys.path.insert( 0, '/Users/mitchell/Documents/PYTHON/modules/mitchell/' )\n",
    "import tpm   \n",
    "dir(tpm) \n",
    "# help( tpm.__name__)"
   ]
  },
  {
   "cell_type": "code",
   "execution_count": 3,
   "metadata": {},
   "outputs": [],
   "source": [
    "# Need this line to view plots in jupyter notebook\n",
    "%matplotlib inline"
   ]
  },
  {
   "cell_type": "code",
   "execution_count": 4,
   "metadata": {},
   "outputs": [
    {
     "data": {
      "text/plain": [
       "0"
      ]
     },
     "execution_count": 4,
     "metadata": {},
     "output_type": "execute_result"
    }
   ],
   "source": [
    "# Download data from the NOAA Climate Prediction Center\n",
    "# The \"91-20\" in the filename refers to the 1991-2020 climatology used in the dataset.\n",
    "fn = 'ersst5.nino.mth.91-20.ascii'\n",
    "call( [ 'wget', '--no-check-certificate', 'https://www.cpc.ncep.noaa.gov/data/indices/' + fn ] ) "
   ]
  },
  {
   "cell_type": "code",
   "execution_count": 5,
   "metadata": {},
   "outputs": [
    {
     "name": "stdout",
     "output_type": "stream",
     "text": [
      "['YR', 'MON', 'NINO1+2', 'ANOM', 'NINO3', 'ANOM.1', 'NINO4', 'ANOM.2', 'NINO3.4', 'ANOM.3']\n",
      "The timeseries span 1950 through 2021\n"
     ]
    }
   ],
   "source": [
    "# Ingest the data\n",
    "df = pd.read_csv( fn, delimiter=r\"\\s+\" )\n",
    "print( df.dtypes.index.to_list() )\n",
    "yr1 = df[ 'YR' ].min()  # Determine the first and last years of data\n",
    "yr2 = df[ 'YR' ].max()\n",
    "print( f'The timeseries span {yr1} through {yr2}' )\n"
   ]
  },
  {
   "cell_type": "code",
   "execution_count": 6,
   "metadata": {},
   "outputs": [],
   "source": [
    "# The nino3.4 anomaly timeseries is column 9 of the table.  I am ingesting deviations with\n",
    "# respect to a 1991-2020 climatology\n",
    "ts = df.iloc[ :, 9 ]\n",
    "# The last year of data is sometimes incomplete.  Add nan's to complete years if necessary.\n",
    "ts = tpm.fill_year( ts )\n"
   ]
  },
  {
   "cell_type": "code",
   "execution_count": 7,
   "metadata": {},
   "outputs": [],
   "source": [
    "call( [ '/bin/rm', 'ersst5.nino.mth.91-20.ascii' ] )  # Delete the file\n",
    "\n",
    "nyr = yr2 - yr1 + 1\n",
    "nt = nyr * 12"
   ]
  },
  {
   "cell_type": "code",
   "execution_count": 8,
   "metadata": {
    "scrolled": true
   },
   "outputs": [
    {
     "name": "stderr",
     "output_type": "stream",
     "text": [
      "/Users/mitchell/opt/anaconda3/lib/python3.7/site-packages/ipykernel_launcher.py:14: RuntimeWarning: invalid value encountered in greater_equal\n",
      "  \n",
      "/Users/mitchell/opt/anaconda3/lib/python3.7/site-packages/ipykernel_launcher.py:15: RuntimeWarning: invalid value encountered in less\n",
      "  from ipykernel import kernelapp as app\n"
     ]
    },
    {
     "data": {
      "image/png": "[encoded data removed]",
      "text/plain": [
       "<Figure size 432x288 with 1 Axes>"
      ]
     },
     "metadata": {
      "needs_background": "light"
     },
     "output_type": "display_data"
    }
   ],
   "source": [
    "# The data spans 1950 - present.  Plot the data beginning with 2010\n",
    "\n",
    "red  = tuple( np.asarray( [ 255,  96,   0, 256 ] ) / 256 )\n",
    "blue = tuple( np.asarray( [  60, 160, 240, 256 ] ) / 256 )\n",
    "\n",
    "x = np.arange( 1, len(ts)+1 ).astype( float )  # An index of abscissa points                       \n",
    "skip =int( ( 2010 - yr1 ) * 12 )\n",
    "x2  = x[  skip: ]\n",
    "ts2 = ts[ skip: ]\n",
    "\n",
    "ymax = max( np.abs( ts2 ) )\n",
    "plt.clf()\n",
    "# The positive and negative values are plotted separately in red and blue, respectively\n",
    "plt.bar( x2[ ts2>=0 ], ts2[ ts2>=0 ], zorder=5, color=red )\n",
    "plt.bar( x2[ ts2< 0 ], ts2[ ts2< 0 ], zorder=5, color=blue )\n",
    "plt.ylim( ( -3, 3 ))\n",
    "plt.xlim( ( skip-5, nt+5 ) )\n",
    "tpm.plot_vertical_lines( ( skip+1, nt+12, 12 ), ( -2.9, 2.9 ), -1 )  # plot under the bars\n",
    "plt.xticks( np.arange( skip+1, nt+12, step=12 ), ( '2010', ' 11 ', ' 12 ', ' 13 ', ' 14 ',\n",
    "   '2015', ' 16 ', ' 17 ', ' 18 ', ' 19 ', '2020', ' 21 ', '2022' ) )\n",
    "plt.xticks( np.arange( skip+1, nt+12, step=12 ) )\n",
    "plt.title( r'2010 - October 2021 Nino3.4 Sea Surface Temperature Anomaly ($^\\circ$C)'\n",
    "           '\\n' r'5N-5S,120-70W; 1991-2020 climatology; ERSST v.5' )\n",
    "plt.xlabel( 'Year')\n",
    "plt.ylabel( 'Anomaly ($^\\circ$C)')\n",
    "# Saving the file as PS or PDF eliminates the aliasing you see in the plot.\n",
    "plt.savefig( 'sstanomnino342010oct2021.png', dpi=300 )  \n",
    "plt.show()\n",
    "\n",
    "# The runtime error you get with incomplete years, years that don't have data through December, \n",
    "# is that ts2 has missing values ( nan's ) for the months without data.  I expect that there \n",
    "# is a way to turn that error-message off.\n"
   ]
  },
  {
   "cell_type": "code",
   "execution_count": null,
   "metadata": {},
   "outputs": [],
   "source": []
  }
 ],
 "metadata": {
  "kernelspec": {
   "display_name": "Python 3",
   "language": "python",
   "name": "python3"
  },
  "language_info": {
   "codemirror_mode": {
    "name": "ipython",
    "version": 3
   },
   "file_extension": ".py",
   "mimetype": "text/x-python",
   "name": "python",
   "nbconvert_exporter": "python",
   "pygments_lexer": "ipython3",
   "version": "3.7.6"
  }
 },
 "nbformat": 4,
 "nbformat_minor": 2
}
